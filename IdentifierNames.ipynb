{
  "nbformat": 4,
  "nbformat_minor": 0,
  "metadata": {
    "colab": {
      "name": "IdentifierNames.ipynb",
      "provenance": [],
      "collapsed_sections": [],
      "authorship_tag": "ABX9TyMnPkhJ15rq4K4R+xSwD6PC",
      "include_colab_link": true
    },
    "kernelspec": {
      "name": "python3",
      "display_name": "Python 3"
    },
    "language_info": {
      "name": "python"
    }
  },
  "cells": [
    {
      "cell_type": "markdown",
      "metadata": {
        "id": "view-in-github",
        "colab_type": "text"
      },
      "source": [
        "<a href=\"https://colab.research.google.com/github/hilal212/Python.OOP/blob/main/IdentifierNames.ipynb\" target=\"_parent\"><img src=\"https://colab.research.google.com/assets/colab-badge.svg\" alt=\"Open In Colab\"/></a>"
      ]
    },
    {
      "cell_type": "code",
      "execution_count": null,
      "metadata": {
        "id": "xuFI1kZ4ZV26"
      },
      "outputs": [],
      "source": [
        "#are case sensitive\n",
        "#must follow certain rules\n",
        "#should follow certain conventions"
      ]
    },
    {
      "cell_type": "code",
      "source": [
        "#start with underscore (_) or letter (a-Z A-Z)\n",
        "#followed by any number of underscores(_),letters(a-z ,A-Z) or digits(0-9)\n",
        " _var , __var , __lt__\n",
        "\n",
        "#cannot be reserved words;none,true,false,and,or,.....etc"
      ],
      "metadata": {
        "id": "RHC_cCRShp8B"
      },
      "execution_count": null,
      "outputs": []
    },
    {
      "cell_type": "code",
      "source": [
        "_my_var #the single underscore(_my) indicates \"internal use\" or \"private\" object\n",
        "#we can still acess it but there will be other ways to access it"
      ],
      "metadata": {
        "id": "99i8fxp-iWei"
      },
      "execution_count": null,
      "outputs": []
    },
    {
      "cell_type": "code",
      "source": [
        "__my_var #double underscore(__my)used to mangle class attributes"
      ],
      "metadata": {
        "id": "ItrmiUyci7Dp"
      },
      "execution_count": null,
      "outputs": []
    },
    {
      "cell_type": "code",
      "source": [
        "__my_var__ #starts and ends with double underscre ,used for system-defined names\n",
        "#for example __init__  "
      ],
      "metadata": {
        "id": "1c-soJKTjGk5"
      },
      "execution_count": null,
      "outputs": []
    },
    {
      "cell_type": "code",
      "source": [
        "Packages : short ,all lowercase,preferably no underscore ex: utilities\n",
        "Modules : short,all lower case,can have underscore  ex: db_utils\n",
        "Classes : CapWords (upper camel case) convention ex:BankAccount\n",
        "Functions :lowercase ,words separated by underscore(snake case) ex: open_account\n",
        "Variables :lowercase ,words separated by underscore(snake case) ex: bank_id\n",
        "Constants : all uppercase, words separated by underscore ex: MIN_APR\n",
        "\n",
        "\n"
      ],
      "metadata": {
        "id": "GMzEhmBljXuS"
      },
      "execution_count": null,
      "outputs": []
    }
  ]
}