{
  "nbformat": 4,
  "nbformat_minor": 0,
  "metadata": {
    "colab": {
      "name": "WhileLoop.ipynb",
      "provenance": [],
      "collapsed_sections": [],
      "authorship_tag": "ABX9TyOxRSbqJuJD3ebwjCvAZpAp",
      "include_colab_link": true
    },
    "kernelspec": {
      "name": "python3",
      "display_name": "Python 3"
    },
    "language_info": {
      "name": "python"
    }
  },
  "cells": [
    {
      "cell_type": "markdown",
      "metadata": {
        "id": "view-in-github",
        "colab_type": "text"
      },
      "source": [
        "<a href=\"https://colab.research.google.com/github/hilal212/Python.OOP/blob/main/WhileLoop.ipynb\" target=\"_parent\"><img src=\"https://colab.research.google.com/assets/colab-badge.svg\" alt=\"Open In Colab\"/></a>"
      ]
    },
    {
      "cell_type": "code",
      "execution_count": null,
      "metadata": {
        "id": "tlRq28SW8Xu4"
      },
      "outputs": [],
      "source": [
        "#The while loop ,repeats a code of block as long as some expression is true"
      ]
    },
    {
      "cell_type": "code",
      "source": [
        "i = 0\n",
        "while i < 5:  #the condition is being tested as \"is i less then 5\"\n",
        "  print(i)   #if \"i is less then 5\" then it will excute this piece of code\n",
        "  i += 1"
      ],
      "metadata": {
        "colab": {
          "base_uri": "https://localhost:8080/"
        },
        "id": "fUURRg6a8x0g",
        "outputId": "41c41fcd-0a9b-42e9-ed34-0178b74c1906"
      },
      "execution_count": 1,
      "outputs": [
        {
          "output_type": "stream",
          "name": "stdout",
          "text": [
            "0\n",
            "1\n",
            "2\n",
            "3\n",
            "4\n"
          ]
        }
      ]
    },
    {
      "cell_type": "code",
      "source": [
        "i = 5\n",
        "\n",
        "while True:  #while true\"is always gonna be true ,and always run\n",
        "  print(i)   # it will print \"5\"\n",
        "  if i >= 5:  # if will test if \"i\" is equal to \"5\"\n",
        "     break  # if \"i\" is equal to \"5\" then it will break out of the loop"
      ],
      "metadata": {
        "colab": {
          "base_uri": "https://localhost:8080/"
        },
        "id": "iMjREN6F9qx2",
        "outputId": "151aed37-c6ff-449f-8deb-64a03648bb4d"
      },
      "execution_count": 2,
      "outputs": [
        {
          "output_type": "stream",
          "name": "stdout",
          "text": [
            "5\n"
          ]
        }
      ]
    },
    {
      "cell_type": "code",
      "source": [
        "#continue statement \n",
        "#re-run the test, and if its true \"continue running\"\n",
        "a = 0\n",
        "while a < 10:\n",
        "   a += 1\n",
        "   if a % 2 == 0:\n",
        "       continue \n",
        "print(a)"
      ],
      "metadata": {
        "colab": {
          "base_uri": "https://localhost:8080/"
        },
        "id": "FXOzGT7JDRag",
        "outputId": "312ae454-8896-4275-ceef-0b5c56b93a26"
      },
      "execution_count": 14,
      "outputs": [
        {
          "output_type": "stream",
          "name": "stdout",
          "text": [
            "10\n"
          ]
        }
      ]
    },
    {
      "cell_type": "code",
      "source": [
        "l = [1,2,3,4,10]\n",
        "val = 10\n",
        "\n",
        "found = False \n",
        "idx = 0\n",
        "while idx < len(l):\n",
        "   if l[idx] == val:\n",
        "      found = True\n",
        "      break \n",
        "   idx += 1\n",
        "\n",
        "if not found:\n",
        "     l.append(val)\n",
        "print(l)"
      ],
      "metadata": {
        "colab": {
          "base_uri": "https://localhost:8080/"
        },
        "id": "2fznEYeLIW6z",
        "outputId": "05af82ba-f937-46f0-c0d2-f7b0b7646558"
      },
      "execution_count": 19,
      "outputs": [
        {
          "output_type": "stream",
          "name": "stdout",
          "text": [
            "[1, 2, 3, 4, 10]\n"
          ]
        }
      ]
    },
    {
      "cell_type": "code",
      "source": [
        "l = [1,2,3,10]\n",
        "val = 10\n",
        "idx = 0\n",
        "while idx < len(l):\n",
        "     if l[idx] == val:\n",
        "        break \n",
        "     idx += 1\n",
        "else:\n",
        "   l.append(val)\n",
        "print(l)"
      ],
      "metadata": {
        "colab": {
          "base_uri": "https://localhost:8080/"
        },
        "id": "omqt354XdBGr",
        "outputId": "7ff0ac6b-24b0-4335-cdb3-c06260a26165"
      },
      "execution_count": 21,
      "outputs": [
        {
          "output_type": "stream",
          "name": "stdout",
          "text": [
            "[1, 2, 3, 10]\n"
          ]
        }
      ]
    }
  ]
}