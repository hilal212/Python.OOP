{
  "nbformat": 4,
  "nbformat_minor": 0,
  "metadata": {
    "colab": {
      "name": "Conditionals.ipynb",
      "provenance": [],
      "collapsed_sections": [],
      "authorship_tag": "ABX9TyOjvTm7RrvUBQJmMxp0vdP+",
      "include_colab_link": true
    },
    "kernelspec": {
      "name": "python3",
      "display_name": "Python 3"
    },
    "language_info": {
      "name": "python"
    }
  },
  "cells": [
    {
      "cell_type": "markdown",
      "metadata": {
        "id": "view-in-github",
        "colab_type": "text"
      },
      "source": [
        "<a href=\"https://colab.research.google.com/github/hilal212/Python.OOP/blob/main/Conditionals.ipynb\" target=\"_parent\"><img src=\"https://colab.research.google.com/assets/colab-badge.svg\" alt=\"Open In Colab\"/></a>"
      ]
    },
    {
      "cell_type": "code",
      "execution_count": 5,
      "metadata": {
        "id": "HLpOYB-0lGcI"
      },
      "outputs": [],
      "source": [
        "a = 'high' if x > 108 else 'normal'\n",
        "if x > 108:\n",
        "    a = 'high'\n",
        "else:\n",
        "    a = 'normal'\n",
        "#instead of this long form we can write  = [(x + 10) if x > 0 else (x - 10) for x in other_list] "
      ]
    },
    {
      "cell_type": "code",
      "source": [
        "a = 25\n",
        "\n",
        "if a <5:\n",
        "  print('a<5')\n",
        "elif a < 10:\n",
        "  print('5 <= a <10')\n",
        "elif a < 15:\n",
        "  print('10 <= a < 15')\n",
        "elif a < 20:\n",
        "  print ('15 <= a <20')\n",
        "else:\n",
        "  print('a >20')"
      ],
      "metadata": {
        "colab": {
          "base_uri": "https://localhost:8080/"
        },
        "id": "tVmBQDKwtNS2",
        "outputId": "60482421-07ec-4e38-8e74-397126d65cbd"
      },
      "execution_count": 8,
      "outputs": [
        {
          "output_type": "stream",
          "name": "stdout",
          "text": [
            "a >20\n"
          ]
        }
      ]
    },
    {
      "cell_type": "code",
      "source": [
        "a = 25 \n",
        "\n",
        "if a < 5:\n",
        "   b = 'a < 5'\n",
        "else:\n",
        "   b = 'a >= 5'\n",
        "print(b)"
      ],
      "metadata": {
        "colab": {
          "base_uri": "https://localhost:8080/"
        },
        "id": "YJoVKQ6yt_CJ",
        "outputId": "5dc9fe2d-0437-4b61-e593-243a52df5fb6"
      },
      "execution_count": 10,
      "outputs": [
        {
          "output_type": "stream",
          "name": "stdout",
          "text": [
            "a >= 5\n"
          ]
        }
      ]
    },
    {
      "cell_type": "code",
      "source": [
        "b = 'a < 5' if a < 5 else 'a >=5'\n",
        "print(b)"
      ],
      "metadata": {
        "colab": {
          "base_uri": "https://localhost:8080/"
        },
        "id": "q0VWq5Guuuix",
        "outputId": "c62c5a69-357d-4bf2-a92e-cebdb737321d"
      },
      "execution_count": 13,
      "outputs": [
        {
          "output_type": "stream",
          "name": "stdout",
          "text": [
            "a >=5\n"
          ]
        }
      ]
    }
  ]
}