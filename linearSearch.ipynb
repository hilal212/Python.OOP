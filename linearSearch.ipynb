{
  "nbformat": 4,
  "nbformat_minor": 0,
  "metadata": {
    "colab": {
      "name": "linearSearch",
      "provenance": [],
      "authorship_tag": "ABX9TyPNu+S01pNw9xBfKcf02nlp",
      "include_colab_link": true
    },
    "kernelspec": {
      "name": "python3",
      "display_name": "Python 3"
    },
    "language_info": {
      "name": "python"
    }
  },
  "cells": [
    {
      "cell_type": "markdown",
      "metadata": {
        "id": "view-in-github",
        "colab_type": "text"
      },
      "source": [
        "<a href=\"https://colab.research.google.com/github/hilal212/Python.OOP/blob/main/linearSearch.ipynb\" target=\"_parent\"><img src=\"https://colab.research.google.com/assets/colab-badge.svg\" alt=\"Open In Colab\"/></a>"
      ]
    },
    {
      "cell_type": "code",
      "execution_count": 12,
      "metadata": {
        "colab": {
          "base_uri": "https://localhost:8080/"
        },
        "id": "ur3p4aNfwkXB",
        "outputId": "b23cc7c5-b097-4cd4-9186-3b11ede0c338"
      },
      "outputs": [
        {
          "output_type": "stream",
          "name": "stdout",
          "text": [
            "Target not found in List\n"
          ]
        }
      ],
      "source": [
        "def linear_search(list, target):\n",
        "\n",
        "  for i in range(0 , len(list)):\n",
        "   if list[i] == target:\n",
        "    return i\n",
        "  return None \n",
        "\n",
        "def verify(index):\n",
        "    if index is not None :\n",
        "      print(\"Target found at index :\",index)\n",
        "    else:\n",
        "        print(\"Target not found in List\")\n",
        "\n",
        "numbers=[1,2,3,4,5,6,7,8,9,10]\n",
        "result = linear_search(numbers, 12)\n",
        "verify(result)\n",
        "\n"
      ]
    },
    {
      "cell_type": "code",
      "source": [
        "###binary Search###\n",
        "def binary_search(list,target):\n",
        "  first = 0      #index number starts with 0\n",
        "  last = len(list) - 1  #this is the last element of lists \n",
        "\n",
        "  while first <= last :\n",
        "    midpoint = (first + last)//2   #finds the midpoint and rounds to the nearest number\n",
        "    if list [midpoint] == target:\n",
        "      return midpoint \n",
        "    elif list[midpoint] < target :\n",
        "      first = midpoint + 1\n",
        "    else:\n",
        "        last = midpoint - 1\n",
        "\n",
        "  return None\n",
        "\n",
        "  def verify(index):\n",
        "    if index is not None :\n",
        "      print(\"Target found at index :\",index)\n",
        "    else:\n",
        "        print(\"Target not found in List\")\n",
        "\n",
        "numbers=[1,2,3,4,5,6,7,8,9,10]\n",
        "result = binary_search(numbers, 12)\n",
        "verify(result)\n"
      ],
      "metadata": {
        "colab": {
          "base_uri": "https://localhost:8080/"
        },
        "id": "B2WO-8eA2mid",
        "outputId": "d678fd98-d4d1-47bb-9f6d-bf0741a38bfe"
      },
      "execution_count": 15,
      "outputs": [
        {
          "output_type": "stream",
          "name": "stdout",
          "text": [
            "Target not found in List\n"
          ]
        }
      ]
    },
    {
      "cell_type": "code",
      "source": [
        "###recursive_binary_search###\n",
        "def recursive_binary_search(list , target):\n",
        "  if len(list) == 0:\n",
        "    return False\n",
        "  else:\n",
        "      midpoint = (len(list))//2\n",
        "      if list[midpoint] == target:\n",
        "        return True\n",
        "      else:\n",
        "        if list[midpoint] < target :\n",
        "          return recursive_binary_search(list[midpoint+1:],target) #[midpoint+1:] is the slice point , \n",
        "        else :\n",
        "            return recursive_binary_search(list[:midpoint],target)\n",
        "  \n",
        "def verify(result):\n",
        "  print(\"Target found:\", result)\n",
        "\n",
        "  numbers = [1,2,3,4,5,6,7,8]\n",
        "  result = recursive_binary_search(numbers,12)\n",
        "  verify(result)\n",
        "\n",
        "  result = result = recursive_binary_search(numbers,6)\n",
        "  verify(result)"
      ],
      "metadata": {
        "id": "Tsi25wXZxL_J"
      },
      "execution_count": 20,
      "outputs": []
    },
    {
      "cell_type": "code",
      "source": [
        "#arrays means list in Python#\n",
        "new_list = [1,2,3]\n",
        "result = new_list[0]\n",
        "new_list"
      ],
      "metadata": {
        "colab": {
          "base_uri": "https://localhost:8080/"
        },
        "id": "gBA-uizXxMGw",
        "outputId": "573c7391-3190-4a46-8031-d28ce834d3f6"
      },
      "execution_count": 6,
      "outputs": [
        {
          "output_type": "execute_result",
          "data": {
            "text/plain": [
              "[1, 2, 3]"
            ]
          },
          "metadata": {},
          "execution_count": 6
        }
      ]
    },
    {
      "cell_type": "code",
      "source": [
        "#arrays means list in Python#search#\n",
        "new_list = [1,2,3]\n",
        "result = new_list[0]\n",
        "\n",
        "if 1 in new_list:print(True)\n",
        "\n",
        "for n in new_list:\n",
        "  if n == 1:\n",
        "    print(True)\n",
        "\n",
        "    break\n"
      ],
      "metadata": {
        "colab": {
          "base_uri": "https://localhost:8080/"
        },
        "id": "A24yJp_W--u6",
        "outputId": "a1a6c05b-abb0-4b98-9841-d7df6e1ff1be"
      },
      "execution_count": 7,
      "outputs": [
        {
          "output_type": "stream",
          "name": "stdout",
          "text": [
            "True\n",
            "True\n"
          ]
        }
      ]
    },
    {
      "cell_type": "code",
      "source": [
        "#arrays means list in Python#insert an number by using append method#\n",
        "new_list = [1,2,3]\n",
        "new_list.append(7)\n",
        "new_list\n",
        "new_list.extend([4,5,6]) # extend add another [] list \n",
        "new_list\n",
        "new_list = [1, 2, 3, 7, 4, 5, 6]\n",
        "new_list.remove(5)\n",
        "new_list\n"
      ],
      "metadata": {
        "colab": {
          "base_uri": "https://localhost:8080/"
        },
        "id": "eQ-JnNvw_jg9",
        "outputId": "470d72b7-5308-4b6a-dfb0-11e301d41cd0"
      },
      "execution_count": 43,
      "outputs": [
        {
          "output_type": "execute_result",
          "data": {
            "text/plain": [
              "[1, 2, 3, 7, 4, 6]"
            ]
          },
          "metadata": {},
          "execution_count": 43
        }
      ]
    },
    {
      "cell_type": "code",
      "source": [
        "#Linked List is a linear data structure#(isert and delete mostly used )\n",
        "#Nodes are self referential objects\n",
        "\n",
        "#Singly Linked List#\n",
        "class Node:\n",
        "  \"\"\"An object for storing a single node for a linked list.\n",
        "  Models two attributes -data and the link to the next node in the list\n",
        "  \"\"\"\n",
        "\n",
        "  data = None\n",
        "  next_node = None\n",
        "\n",
        "  def __init__(self,data):\n",
        "    self.data = data \n",
        "\n",
        "class LinkedList:\n",
        "  head = None \n",
        "\n",
        "  def __init__(self):\n",
        "    self.head = None \n",
        "\n",
        "\n",
        "\n",
        "\n",
        "\n",
        "\n",
        "\n",
        "\n",
        "\n",
        "\n",
        "\n",
        "\n",
        "\n",
        "\n",
        "\n",
        "\n",
        "\n",
        "\n",
        "\n",
        "\n",
        "\n",
        "\n",
        "\n",
        "\n"
      ],
      "metadata": {
        "id": "nl_ZFv8ZGQH8"
      },
      "execution_count": 45,
      "outputs": []
    }
  ]
}