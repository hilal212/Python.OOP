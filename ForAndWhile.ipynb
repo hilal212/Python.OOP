{
  "nbformat": 4,
  "nbformat_minor": 0,
  "metadata": {
    "colab": {
      "name": "ForAndWhile.ipynb",
      "provenance": [],
      "collapsed_sections": [],
      "authorship_tag": "ABX9TyNiVQbr1VPFbSqgx5yNyZnD",
      "include_colab_link": true
    },
    "kernelspec": {
      "name": "python3",
      "display_name": "Python 3"
    },
    "language_info": {
      "name": "python"
    }
  },
  "cells": [
    {
      "cell_type": "markdown",
      "metadata": {
        "id": "view-in-github",
        "colab_type": "text"
      },
      "source": [
        "<a href=\"https://colab.research.google.com/github/hilal212/Python.OOP/blob/main/ForAndWhile.ipynb\" target=\"_parent\"><img src=\"https://colab.research.google.com/assets/colab-badge.svg\" alt=\"Open In Colab\"/></a>"
      ]
    },
    {
      "cell_type": "code",
      "execution_count": null,
      "metadata": {
        "colab": {
          "base_uri": "https://localhost:8080/"
        },
        "id": "Z98WuX2x0S6U",
        "outputId": "5e81207c-2cd5-42ca-a242-713eaa7a0bfd"
      },
      "outputs": [
        {
          "output_type": "stream",
          "name": "stdout",
          "text": [
            "1\n",
            "2\n",
            "3\n",
            "4\n",
            "5\n",
            "6\n"
          ]
        }
      ],
      "source": [
        "list = [1,2,3,4,5,6]\n",
        "for i in list:\n",
        "  print(i)"
      ]
    },
    {
      "cell_type": "code",
      "source": [
        "string = \"Wonderful\"\n",
        "for i in string:\n",
        "  print(i)"
      ],
      "metadata": {
        "colab": {
          "base_uri": "https://localhost:8080/"
        },
        "id": "0vXeTkok0f7f",
        "outputId": "b0dd1e2b-6536-4238-c003-1ba45c4c8f15"
      },
      "execution_count": null,
      "outputs": [
        {
          "output_type": "stream",
          "name": "stdout",
          "text": [
            "W\n",
            "o\n",
            "n\n",
            "d\n",
            "e\n",
            "r\n",
            "f\n",
            "u\n",
            "l\n"
          ]
        }
      ]
    },
    {
      "cell_type": "code",
      "source": [
        ""
      ],
      "metadata": {
        "id": "kXA-vMoA0f-U"
      },
      "execution_count": null,
      "outputs": []
    },
    {
      "cell_type": "code",
      "source": [
        "#Definition and Usage of \"The range()\" function\n",
        "#The range() function returns a sequence of numbers, starting from 0 by default, and increments by 1 (by default), and stops before a specified number.\n",
        "###Range(start, stop, step)###"
      ],
      "metadata": {
        "id": "1tc-nKkA0gFB"
      },
      "execution_count": null,
      "outputs": []
    },
    {
      "cell_type": "code",
      "source": [
        "x = range(3, 20, 2) #start from 3 until 20 and by 2 steps\n",
        "\n",
        "for n in x:\n",
        "  print(n)\n",
        "\n"
      ],
      "metadata": {
        "colab": {
          "base_uri": "https://localhost:8080/"
        },
        "id": "zHKgs1Pj1jjg",
        "outputId": "2c0d6d72-dd89-4ddd-8f0f-98a40e1d1e16"
      },
      "execution_count": null,
      "outputs": [
        {
          "output_type": "stream",
          "name": "stdout",
          "text": [
            "3\n",
            "5\n",
            "7\n",
            "9\n",
            "11\n",
            "13\n",
            "15\n",
            "17\n",
            "19\n"
          ]
        }
      ]
    },
    {
      "cell_type": "code",
      "source": [
        "x = range(3, 6) #start with 3 and \"include 3\" go until 6 but do not include \"6\"\n",
        "\n",
        "for n in x:\n",
        "  print(n)\n",
        "\n"
      ],
      "metadata": {
        "colab": {
          "base_uri": "https://localhost:8080/"
        },
        "id": "BsMIGe741vY9",
        "outputId": "305f0064-5662-42ae-edd6-e2cbe30ce7f1"
      },
      "execution_count": null,
      "outputs": [
        {
          "output_type": "stream",
          "name": "stdout",
          "text": [
            "3\n",
            "4\n",
            "5\n"
          ]
        }
      ]
    },
    {
      "cell_type": "code",
      "source": [
        "list1 = [1,2,3]\n",
        "list2 = [\"a\",\"b\",\"c\"]\n",
        "\n",
        "for numbers in list1:\n",
        "     for characters in list2:\n",
        "          print(numbers,characters)"
      ],
      "metadata": {
        "colab": {
          "base_uri": "https://localhost:8080/"
        },
        "id": "Pqm4Ti201vb2",
        "outputId": "b10217ec-ca0f-4f62-bd99-a357f640078a"
      },
      "execution_count": null,
      "outputs": [
        {
          "output_type": "stream",
          "name": "stdout",
          "text": [
            "1 a\n",
            "1 b\n",
            "1 c\n",
            "2 a\n",
            "2 b\n",
            "2 c\n",
            "3 a\n",
            "3 b\n",
            "3 c\n"
          ]
        }
      ]
    },
    {
      "cell_type": "code",
      "source": [
        "#BREAK AND CONTINUE#"
      ],
      "metadata": {
        "id": "f2uUYxpB2KF-"
      },
      "execution_count": null,
      "outputs": []
    },
    {
      "cell_type": "code",
      "source": [
        "list = [1,2,3,4,5,6,7,8,9]\n",
        "for i in list:\n",
        "  if i ==3: #skip \"3\" and continue\n",
        "    continue #skipped 3 and conitued\n",
        "  print(i)"
      ],
      "metadata": {
        "colab": {
          "base_uri": "https://localhost:8080/"
        },
        "id": "-dR7OfAt45U2",
        "outputId": "7bca7865-1a3f-42ae-a353-84e435c76548"
      },
      "execution_count": null,
      "outputs": [
        {
          "output_type": "stream",
          "name": "stdout",
          "text": [
            "1\n",
            "2\n",
            "4\n",
            "5\n",
            "6\n",
            "7\n",
            "8\n",
            "9\n"
          ]
        }
      ]
    },
    {
      "cell_type": "code",
      "source": [
        "list = [1,2,3,4,5,6,7,8,9]\n",
        "for i in list:\n",
        "  if i ==3:  \n",
        "    break # the loop breaks at 3 \n",
        "  print(i)"
      ],
      "metadata": {
        "colab": {
          "base_uri": "https://localhost:8080/"
        },
        "id": "C18VStKH2KIb",
        "outputId": "3d6aefd3-35f1-4306-8fb1-24d13f0b2022"
      },
      "execution_count": null,
      "outputs": [
        {
          "output_type": "stream",
          "name": "stdout",
          "text": [
            "1\n",
            "2\n"
          ]
        }
      ]
    },
    {
      "cell_type": "code",
      "source": [
        "list = range(100)\n",
        "for i in list:\n",
        "    if i % 3 !=0:\n",
        "        continue\n",
        "    if i == 81:\n",
        "       break\n",
        "    print(i)"
      ],
      "metadata": {
        "id": "ihG80_Ik1viO"
      },
      "execution_count": null,
      "outputs": []
    },
    {
      "cell_type": "code",
      "source": [
        "#NOTE#\n",
        "#The for statement iterates through a collection or iterable object or generator function.\n",
        "#Generally, however, we have a ready-made collection: a set, tuple, list, map or even a string is already an iterable collection, so we simply use a for loop."
      ],
      "metadata": {
        "id": "Pr66YVi6A1Xm"
      },
      "execution_count": null,
      "outputs": []
    },
    {
      "cell_type": "code",
      "source": [
        "#NOTE#\n",
        "#The while statement simply loops until a condition is False.\n",
        "#If you don't have a tidy data structure to iterate through, or you don't have a generator function that drives your processing, you must use while."
      ],
      "metadata": {
        "id": "vM3yfDVJA1gr"
      },
      "execution_count": null,
      "outputs": []
    },
    {
      "cell_type": "code",
      "source": [
        "x = 2\n",
        "y = 3\n",
        "\n",
        "while x * y < 1000:\n",
        "  print(x,y)\n",
        "  x += 2\n",
        "  y += 2"
      ],
      "metadata": {
        "id": "oao8YJZGA1oa"
      },
      "execution_count": null,
      "outputs": []
    },
    {
      "cell_type": "code",
      "source": [
        "i = 1\n",
        "while True :\n",
        "  print(i)\n",
        "  i += 1\n",
        "  if i == 100:\n",
        "    break\n",
        "     "
      ],
      "metadata": {
        "id": "0hqdMe_XVxHI"
      },
      "execution_count": null,
      "outputs": []
    },
    {
      "cell_type": "markdown",
      "source": [
        ""
      ],
      "metadata": {
        "id": "NCLZXnKvXm01"
      }
    }
  ]
}